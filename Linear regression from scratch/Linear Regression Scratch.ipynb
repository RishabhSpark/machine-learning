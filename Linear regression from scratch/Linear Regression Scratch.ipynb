{
 "cells": [
  {
   "cell_type": "code",
   "execution_count": 265,
   "metadata": {},
   "outputs": [],
   "source": [
    "import pandas as pd\n",
    "import matplotlib.pyplot as plt\n",
    "import numpy as np"
   ]
  },
  {
   "cell_type": "code",
   "execution_count": 266,
   "metadata": {},
   "outputs": [
    {
     "data": {
      "text/html": [
       "<div>\n",
       "<style scoped>\n",
       "    .dataframe tbody tr th:only-of-type {\n",
       "        vertical-align: middle;\n",
       "    }\n",
       "\n",
       "    .dataframe tbody tr th {\n",
       "        vertical-align: top;\n",
       "    }\n",
       "\n",
       "    .dataframe thead th {\n",
       "        text-align: right;\n",
       "    }\n",
       "</style>\n",
       "<table border=\"1\" class=\"dataframe\">\n",
       "  <thead>\n",
       "    <tr style=\"text-align: right;\">\n",
       "      <th></th>\n",
       "      <th>school</th>\n",
       "      <th>sex</th>\n",
       "      <th>age</th>\n",
       "      <th>address</th>\n",
       "      <th>famsize</th>\n",
       "      <th>Pstatus</th>\n",
       "      <th>Medu</th>\n",
       "      <th>Fedu</th>\n",
       "      <th>Mjob</th>\n",
       "      <th>Fjob</th>\n",
       "      <th>...</th>\n",
       "      <th>famrel</th>\n",
       "      <th>freetime</th>\n",
       "      <th>goout</th>\n",
       "      <th>Dalc</th>\n",
       "      <th>Walc</th>\n",
       "      <th>health</th>\n",
       "      <th>absences</th>\n",
       "      <th>G1</th>\n",
       "      <th>G2</th>\n",
       "      <th>G3</th>\n",
       "    </tr>\n",
       "  </thead>\n",
       "  <tbody>\n",
       "    <tr>\n",
       "      <th>0</th>\n",
       "      <td>GP</td>\n",
       "      <td>F</td>\n",
       "      <td>18</td>\n",
       "      <td>U</td>\n",
       "      <td>GT3</td>\n",
       "      <td>A</td>\n",
       "      <td>4</td>\n",
       "      <td>4</td>\n",
       "      <td>at_home</td>\n",
       "      <td>teacher</td>\n",
       "      <td>...</td>\n",
       "      <td>4</td>\n",
       "      <td>3</td>\n",
       "      <td>4</td>\n",
       "      <td>1</td>\n",
       "      <td>1</td>\n",
       "      <td>3</td>\n",
       "      <td>4</td>\n",
       "      <td>0</td>\n",
       "      <td>11</td>\n",
       "      <td>11</td>\n",
       "    </tr>\n",
       "    <tr>\n",
       "      <th>1</th>\n",
       "      <td>GP</td>\n",
       "      <td>F</td>\n",
       "      <td>17</td>\n",
       "      <td>U</td>\n",
       "      <td>GT3</td>\n",
       "      <td>T</td>\n",
       "      <td>1</td>\n",
       "      <td>1</td>\n",
       "      <td>at_home</td>\n",
       "      <td>other</td>\n",
       "      <td>...</td>\n",
       "      <td>5</td>\n",
       "      <td>3</td>\n",
       "      <td>3</td>\n",
       "      <td>1</td>\n",
       "      <td>1</td>\n",
       "      <td>3</td>\n",
       "      <td>2</td>\n",
       "      <td>9</td>\n",
       "      <td>11</td>\n",
       "      <td>11</td>\n",
       "    </tr>\n",
       "    <tr>\n",
       "      <th>2</th>\n",
       "      <td>GP</td>\n",
       "      <td>F</td>\n",
       "      <td>15</td>\n",
       "      <td>U</td>\n",
       "      <td>LE3</td>\n",
       "      <td>T</td>\n",
       "      <td>1</td>\n",
       "      <td>1</td>\n",
       "      <td>at_home</td>\n",
       "      <td>other</td>\n",
       "      <td>...</td>\n",
       "      <td>4</td>\n",
       "      <td>3</td>\n",
       "      <td>2</td>\n",
       "      <td>2</td>\n",
       "      <td>3</td>\n",
       "      <td>3</td>\n",
       "      <td>6</td>\n",
       "      <td>12</td>\n",
       "      <td>13</td>\n",
       "      <td>12</td>\n",
       "    </tr>\n",
       "    <tr>\n",
       "      <th>3</th>\n",
       "      <td>GP</td>\n",
       "      <td>F</td>\n",
       "      <td>15</td>\n",
       "      <td>U</td>\n",
       "      <td>GT3</td>\n",
       "      <td>T</td>\n",
       "      <td>4</td>\n",
       "      <td>2</td>\n",
       "      <td>health</td>\n",
       "      <td>services</td>\n",
       "      <td>...</td>\n",
       "      <td>3</td>\n",
       "      <td>2</td>\n",
       "      <td>2</td>\n",
       "      <td>1</td>\n",
       "      <td>1</td>\n",
       "      <td>5</td>\n",
       "      <td>0</td>\n",
       "      <td>14</td>\n",
       "      <td>14</td>\n",
       "      <td>14</td>\n",
       "    </tr>\n",
       "    <tr>\n",
       "      <th>4</th>\n",
       "      <td>GP</td>\n",
       "      <td>F</td>\n",
       "      <td>16</td>\n",
       "      <td>U</td>\n",
       "      <td>GT3</td>\n",
       "      <td>T</td>\n",
       "      <td>3</td>\n",
       "      <td>3</td>\n",
       "      <td>other</td>\n",
       "      <td>other</td>\n",
       "      <td>...</td>\n",
       "      <td>4</td>\n",
       "      <td>3</td>\n",
       "      <td>2</td>\n",
       "      <td>1</td>\n",
       "      <td>2</td>\n",
       "      <td>5</td>\n",
       "      <td>0</td>\n",
       "      <td>11</td>\n",
       "      <td>13</td>\n",
       "      <td>13</td>\n",
       "    </tr>\n",
       "  </tbody>\n",
       "</table>\n",
       "<p>5 rows × 33 columns</p>\n",
       "</div>"
      ],
      "text/plain": [
       "  school sex  age address famsize Pstatus  Medu  Fedu     Mjob      Fjob  ...  \\\n",
       "0     GP   F   18       U     GT3       A     4     4  at_home   teacher  ...   \n",
       "1     GP   F   17       U     GT3       T     1     1  at_home     other  ...   \n",
       "2     GP   F   15       U     LE3       T     1     1  at_home     other  ...   \n",
       "3     GP   F   15       U     GT3       T     4     2   health  services  ...   \n",
       "4     GP   F   16       U     GT3       T     3     3    other     other  ...   \n",
       "\n",
       "  famrel freetime  goout  Dalc  Walc health absences  G1  G2  G3  \n",
       "0      4        3      4     1     1      3        4   0  11  11  \n",
       "1      5        3      3     1     1      3        2   9  11  11  \n",
       "2      4        3      2     2     3      3        6  12  13  12  \n",
       "3      3        2      2     1     1      5        0  14  14  14  \n",
       "4      4        3      2     1     2      5        0  11  13  13  \n",
       "\n",
       "[5 rows x 33 columns]"
      ]
     },
     "execution_count": 266,
     "metadata": {},
     "output_type": "execute_result"
    }
   ],
   "source": [
    "df = pd.read_csv(\"student-por.csv\", delimiter  = \";\")\n",
    "df.head()"
   ]
  },
  {
   "cell_type": "code",
   "execution_count": 267,
   "metadata": {},
   "outputs": [],
   "source": [
    "XY = df.iloc[:,-2:]"
   ]
  },
  {
   "cell_type": "code",
   "execution_count": 268,
   "metadata": {},
   "outputs": [
    {
     "data": {
      "text/html": [
       "<div>\n",
       "<style scoped>\n",
       "    .dataframe tbody tr th:only-of-type {\n",
       "        vertical-align: middle;\n",
       "    }\n",
       "\n",
       "    .dataframe tbody tr th {\n",
       "        vertical-align: top;\n",
       "    }\n",
       "\n",
       "    .dataframe thead th {\n",
       "        text-align: right;\n",
       "    }\n",
       "</style>\n",
       "<table border=\"1\" class=\"dataframe\">\n",
       "  <thead>\n",
       "    <tr style=\"text-align: right;\">\n",
       "      <th></th>\n",
       "      <th>G2</th>\n",
       "      <th>G3</th>\n",
       "    </tr>\n",
       "  </thead>\n",
       "  <tbody>\n",
       "    <tr>\n",
       "      <th>count</th>\n",
       "      <td>649.000000</td>\n",
       "      <td>649.000000</td>\n",
       "    </tr>\n",
       "    <tr>\n",
       "      <th>mean</th>\n",
       "      <td>11.570108</td>\n",
       "      <td>11.906009</td>\n",
       "    </tr>\n",
       "    <tr>\n",
       "      <th>std</th>\n",
       "      <td>2.913639</td>\n",
       "      <td>3.230656</td>\n",
       "    </tr>\n",
       "    <tr>\n",
       "      <th>min</th>\n",
       "      <td>0.000000</td>\n",
       "      <td>0.000000</td>\n",
       "    </tr>\n",
       "    <tr>\n",
       "      <th>25%</th>\n",
       "      <td>10.000000</td>\n",
       "      <td>10.000000</td>\n",
       "    </tr>\n",
       "    <tr>\n",
       "      <th>50%</th>\n",
       "      <td>11.000000</td>\n",
       "      <td>12.000000</td>\n",
       "    </tr>\n",
       "    <tr>\n",
       "      <th>75%</th>\n",
       "      <td>13.000000</td>\n",
       "      <td>14.000000</td>\n",
       "    </tr>\n",
       "    <tr>\n",
       "      <th>max</th>\n",
       "      <td>19.000000</td>\n",
       "      <td>19.000000</td>\n",
       "    </tr>\n",
       "  </tbody>\n",
       "</table>\n",
       "</div>"
      ],
      "text/plain": [
       "               G2          G3\n",
       "count  649.000000  649.000000\n",
       "mean    11.570108   11.906009\n",
       "std      2.913639    3.230656\n",
       "min      0.000000    0.000000\n",
       "25%     10.000000   10.000000\n",
       "50%     11.000000   12.000000\n",
       "75%     13.000000   14.000000\n",
       "max     19.000000   19.000000"
      ]
     },
     "execution_count": 268,
     "metadata": {},
     "output_type": "execute_result"
    }
   ],
   "source": [
    "XY.describe()"
   ]
  },
  {
   "cell_type": "code",
   "execution_count": 269,
   "metadata": {},
   "outputs": [],
   "source": [
    "X = XY.iloc[:,0]\n",
    "Y = XY.iloc[:,1]"
   ]
  },
  {
   "cell_type": "code",
   "execution_count": 270,
   "metadata": {},
   "outputs": [
    {
     "name": "stdout",
     "output_type": "stream",
     "text": [
      "X shape: (649,)\n",
      "Y shape: (649,)\n"
     ]
    }
   ],
   "source": [
    "print(\"X shape:\", X.shape)\n",
    "print(\"Y shape:\", Y.shape)"
   ]
  },
  {
   "cell_type": "code",
   "execution_count": 271,
   "metadata": {},
   "outputs": [
    {
     "data": {
      "text/html": [
       "<div>\n",
       "<style scoped>\n",
       "    .dataframe tbody tr th:only-of-type {\n",
       "        vertical-align: middle;\n",
       "    }\n",
       "\n",
       "    .dataframe tbody tr th {\n",
       "        vertical-align: top;\n",
       "    }\n",
       "\n",
       "    .dataframe thead th {\n",
       "        text-align: right;\n",
       "    }\n",
       "</style>\n",
       "<table border=\"1\" class=\"dataframe\">\n",
       "  <thead>\n",
       "    <tr style=\"text-align: right;\">\n",
       "      <th></th>\n",
       "      <th>G2</th>\n",
       "      <th>G3</th>\n",
       "    </tr>\n",
       "  </thead>\n",
       "  <tbody>\n",
       "    <tr>\n",
       "      <th>0</th>\n",
       "      <td>11</td>\n",
       "      <td>11</td>\n",
       "    </tr>\n",
       "    <tr>\n",
       "      <th>1</th>\n",
       "      <td>11</td>\n",
       "      <td>11</td>\n",
       "    </tr>\n",
       "    <tr>\n",
       "      <th>2</th>\n",
       "      <td>13</td>\n",
       "      <td>12</td>\n",
       "    </tr>\n",
       "    <tr>\n",
       "      <th>3</th>\n",
       "      <td>14</td>\n",
       "      <td>14</td>\n",
       "    </tr>\n",
       "    <tr>\n",
       "      <th>4</th>\n",
       "      <td>13</td>\n",
       "      <td>13</td>\n",
       "    </tr>\n",
       "  </tbody>\n",
       "</table>\n",
       "</div>"
      ],
      "text/plain": [
       "   G2  G3\n",
       "0  11  11\n",
       "1  11  11\n",
       "2  13  12\n",
       "3  14  14\n",
       "4  13  13"
      ]
     },
     "execution_count": 271,
     "metadata": {},
     "output_type": "execute_result"
    }
   ],
   "source": [
    "XY.head()"
   ]
  },
  {
   "cell_type": "code",
   "execution_count": 272,
   "metadata": {},
   "outputs": [
    {
     "data": {
      "text/plain": [
       "<matplotlib.collections.PathCollection at 0x2ebf8bf8c40>"
      ]
     },
     "execution_count": 272,
     "metadata": {},
     "output_type": "execute_result"
    },
    {
     "data": {
      "image/png": "[encoded data removed]",
      "text/plain": [
       "<Figure size 432x288 with 1 Axes>"
      ]
     },
     "metadata": {
      "needs_background": "light"
     },
     "output_type": "display_data"
    }
   ],
   "source": [
    "plt.scatter(X,Y)"
   ]
  },
  {
   "cell_type": "code",
   "execution_count": 273,
   "metadata": {},
   "outputs": [
    {
     "name": "stdout",
     "output_type": "stream",
     "text": [
      "11.570107858243452\n",
      "11.906009244992296\n"
     ]
    }
   ],
   "source": [
    "mean_x = np.mean(X)\n",
    "mean_y = np.mean(Y)\n",
    "print(mean_x)\n",
    "print(mean_y)"
   ]
  },
  {
   "cell_type": "code",
   "execution_count": 274,
   "metadata": {},
   "outputs": [
    {
     "name": "stdout",
     "output_type": "stream",
     "text": [
      "m: 1.0184903428054766\n",
      "c: 0.12196612615358404\n"
     ]
    }
   ],
   "source": [
    "length = X.shape[0]\n",
    "num = 0\n",
    "den = 0\n",
    "for i in range(length):\n",
    "    num += (X[i] - mean_x) * (Y[i] - mean_y)\n",
    "    den += (X[i] - mean_x) ** 2\n",
    "m = num/den\n",
    "c = mean_y-(m*mean_x)\n",
    "\n",
    "print(\"m:\", m)\n",
    "print(\"c:\", c)"
   ]
  },
  {
   "cell_type": "code",
   "execution_count": 275,
   "metadata": {},
   "outputs": [
    {
     "data": {
      "text/plain": [
       "<matplotlib.collections.PathCollection at 0x2ebf8c07d00>"
      ]
     },
     "execution_count": 275,
     "metadata": {},
     "output_type": "execute_result"
    },
    {
     "data": {
      "image/png": "[encoded data removed]",
      "text/plain": [
       "<Figure size 432x288 with 1 Axes>"
      ]
     },
     "metadata": {
      "needs_background": "light"
     },
     "output_type": "display_data"
    }
   ],
   "source": [
    "x = np.linspace(np.min(X), np.max(X)+1)\n",
    "y = m*x + c\n",
    "    \n",
    "plt.plot(x, y, label='Regression Line')\n",
    "plt.scatter(X, Y, label='data points')"
   ]
  },
  {
   "cell_type": "code",
   "execution_count": 276,
   "metadata": {},
   "outputs": [],
   "source": [
    "def pred(x):\n",
    "    y_pred = m*x + c\n",
    "    return y_pred\n",
    "\n",
    "y_arr = X\n",
    "y_pred_arr = []\n",
    "for i in range(length):\n",
    "    uh = pred(i)\n",
    "    y_pred_arr.append(uh)"
   ]
  },
  {
   "cell_type": "code",
   "execution_count": 277,
   "metadata": {},
   "outputs": [],
   "source": [
    "def mse():\n",
    "    MSE = 0\n",
    "    for i in range(length):\n",
    "        k = Y[i]\n",
    "        k_bar = y\n",
    "        MSE += np.square(np.subtract(k,k_bar)).mean()\n",
    "    return MSE.mean()/length"
   ]
  },
  {
   "cell_type": "code",
   "execution_count": 278,
   "metadata": {},
   "outputs": [
    {
     "data": {
      "text/plain": [
       "48.96704814587293"
      ]
     },
     "execution_count": 278,
     "metadata": {},
     "output_type": "execute_result"
    }
   ],
   "source": [
    "mean_sq_error = mse()\n",
    "mean_sq_error"
   ]
  },
  {
   "cell_type": "code",
   "execution_count": 279,
   "metadata": {},
   "outputs": [
    {
     "data": {
      "text/plain": [
       "6.997645900291964"
      ]
     },
     "execution_count": 279,
     "metadata": {},
     "output_type": "execute_result"
    }
   ],
   "source": [
    "from math import sqrt\n",
    "sqrt(mean_sq_error)"
   ]
  },
  {
   "cell_type": "code",
   "execution_count": 281,
   "metadata": {},
   "outputs": [],
   "source": [
    "y_rand = np.random.randint(np.min(X), np.max(X), size = 1000)"
   ]
  },
  {
   "cell_type": "code",
   "execution_count": 288,
   "metadata": {},
   "outputs": [
    {
     "data": {
      "text/plain": [
       "array([13.36234058, 13.36234058, 18.4547923 ,  4.1959275 , 16.41781161,\n",
       "        9.28837921,  4.1959275 ,  6.23290818,  9.28837921,  8.26988887,\n",
       "       14.38083093, 14.38083093, 15.39932127, 15.39932127,  2.15894681,\n",
       "       15.39932127, 10.30686955, 12.34385024,  6.23290818,  6.23290818,\n",
       "       14.38083093,  6.23290818,  9.28837921,  7.25139853,  7.25139853,\n",
       "        8.26988887,  7.25139853,  8.26988887, 17.43630195,  0.12196613,\n",
       "        2.15894681, 13.36234058,  0.12196613, 17.43630195,  3.17743715,\n",
       "       15.39932127,  4.1959275 , 18.4547923 , 17.43630195, 15.39932127,\n",
       "        2.15894681, 16.41781161, 18.4547923 ,  4.1959275 , 11.3253599 ,\n",
       "       17.43630195,  4.1959275 ,  4.1959275 , 18.4547923 , 13.36234058,\n",
       "       10.30686955, 15.39932127, 14.38083093,  5.21441784, 15.39932127,\n",
       "       18.4547923 , 18.4547923 , 14.38083093,  6.23290818, 14.38083093,\n",
       "       13.36234058,  4.1959275 , 11.3253599 ,  6.23290818,  3.17743715,\n",
       "       14.38083093, 17.43630195,  6.23290818,  6.23290818, 15.39932127,\n",
       "        6.23290818, 10.30686955,  0.12196613, 16.41781161, 16.41781161,\n",
       "        0.12196613, 18.4547923 , 15.39932127, 13.36234058, 13.36234058,\n",
       "        6.23290818, 17.43630195,  9.28837921,  8.26988887, 18.4547923 ,\n",
       "        5.21441784, 16.41781161, 10.30686955, 12.34385024, 16.41781161,\n",
       "       12.34385024,  8.26988887, 17.43630195,  6.23290818,  4.1959275 ,\n",
       "        8.26988887,  1.14045647, 15.39932127, 10.30686955, 12.34385024,\n",
       "       14.38083093, 11.3253599 ,  5.21441784,  1.14045647, 12.34385024,\n",
       "       10.30686955, 10.30686955,  1.14045647,  9.28837921, 14.38083093,\n",
       "       10.30686955, 14.38083093, 11.3253599 ,  4.1959275 , 11.3253599 ,\n",
       "       16.41781161,  8.26988887, 13.36234058, 16.41781161,  8.26988887,\n",
       "        8.26988887,  5.21441784,  9.28837921,  1.14045647,  9.28837921,\n",
       "       13.36234058,  6.23290818,  8.26988887, 13.36234058,  5.21441784,\n",
       "        0.12196613, 14.38083093,  6.23290818, 10.30686955,  9.28837921,\n",
       "       11.3253599 ,  1.14045647, 11.3253599 , 17.43630195, 17.43630195,\n",
       "        4.1959275 ,  1.14045647,  0.12196613,  2.15894681, 17.43630195,\n",
       "       17.43630195,  9.28837921,  3.17743715,  1.14045647, 12.34385024,\n",
       "       17.43630195,  1.14045647,  0.12196613,  6.23290818,  7.25139853,\n",
       "        1.14045647,  3.17743715,  7.25139853,  8.26988887,  6.23290818,\n",
       "       16.41781161,  2.15894681,  5.21441784,  5.21441784,  9.28837921,\n",
       "        0.12196613, 15.39932127, 17.43630195,  4.1959275 , 15.39932127,\n",
       "       12.34385024, 13.36234058, 15.39932127,  5.21441784,  1.14045647,\n",
       "        8.26988887, 10.30686955, 15.39932127, 12.34385024,  1.14045647,\n",
       "       15.39932127,  0.12196613,  6.23290818, 13.36234058, 16.41781161,\n",
       "        1.14045647, 13.36234058, 14.38083093, 15.39932127,  5.21441784,\n",
       "        9.28837921,  5.21441784, 13.36234058,  6.23290818, 13.36234058,\n",
       "        6.23290818,  8.26988887, 13.36234058,  1.14045647,  4.1959275 ,\n",
       "       11.3253599 , 12.34385024, 17.43630195, 11.3253599 ,  6.23290818,\n",
       "       12.34385024,  4.1959275 ,  2.15894681, 17.43630195,  5.21441784,\n",
       "       14.38083093, 10.30686955,  2.15894681,  5.21441784, 16.41781161,\n",
       "        5.21441784,  3.17743715,  4.1959275 , 11.3253599 ,  5.21441784,\n",
       "        5.21441784,  7.25139853,  1.14045647,  8.26988887, 12.34385024,\n",
       "       12.34385024,  2.15894681, 13.36234058, 16.41781161, 12.34385024,\n",
       "       11.3253599 ,  9.28837921,  3.17743715, 16.41781161,  1.14045647,\n",
       "       14.38083093, 13.36234058,  0.12196613, 11.3253599 , 18.4547923 ,\n",
       "       10.30686955, 16.41781161, 16.41781161, 11.3253599 ,  6.23290818,\n",
       "       13.36234058, 11.3253599 , 12.34385024,  8.26988887,  6.23290818,\n",
       "        5.21441784,  6.23290818,  5.21441784, 18.4547923 ,  1.14045647,\n",
       "        6.23290818,  7.25139853,  5.21441784,  6.23290818, 10.30686955,\n",
       "        9.28837921, 11.3253599 ,  7.25139853, 13.36234058,  7.25139853,\n",
       "       10.30686955,  1.14045647, 15.39932127, 10.30686955, 15.39932127,\n",
       "        0.12196613,  0.12196613,  0.12196613, 11.3253599 ,  3.17743715,\n",
       "       16.41781161, 16.41781161,  7.25139853, 18.4547923 ,  5.21441784,\n",
       "       14.38083093, 15.39932127, 11.3253599 ,  6.23290818, 14.38083093,\n",
       "        9.28837921, 10.30686955, 13.36234058,  2.15894681,  7.25139853,\n",
       "        7.25139853, 16.41781161,  9.28837921,  7.25139853, 14.38083093,\n",
       "       17.43630195, 17.43630195, 12.34385024, 10.30686955, 17.43630195,\n",
       "        1.14045647,  8.26988887, 10.30686955, 11.3253599 ,  3.17743715,\n",
       "        7.25139853,  6.23290818,  9.28837921,  2.15894681, 11.3253599 ,\n",
       "       13.36234058, 14.38083093, 12.34385024, 18.4547923 , 18.4547923 ,\n",
       "       17.43630195, 17.43630195,  4.1959275 ,  2.15894681, 10.30686955,\n",
       "        3.17743715,  1.14045647,  8.26988887, 13.36234058,  1.14045647,\n",
       "        7.25139853, 12.34385024, 13.36234058,  6.23290818,  4.1959275 ,\n",
       "        0.12196613, 18.4547923 ,  7.25139853,  3.17743715, 12.34385024,\n",
       "        1.14045647, 18.4547923 ,  8.26988887, 12.34385024,  2.15894681,\n",
       "        1.14045647, 10.30686955,  2.15894681,  1.14045647, 16.41781161,\n",
       "        6.23290818,  9.28837921,  9.28837921, 10.30686955, 12.34385024,\n",
       "       13.36234058,  7.25139853, 16.41781161, 15.39932127,  1.14045647,\n",
       "       11.3253599 ,  3.17743715, 11.3253599 ,  4.1959275 ,  8.26988887,\n",
       "       14.38083093,  1.14045647,  3.17743715, 17.43630195,  2.15894681,\n",
       "        5.21441784,  7.25139853, 12.34385024,  6.23290818,  6.23290818,\n",
       "       12.34385024, 17.43630195,  3.17743715,  3.17743715, 15.39932127,\n",
       "        4.1959275 ,  2.15894681,  5.21441784, 15.39932127, 16.41781161,\n",
       "       14.38083093, 14.38083093,  9.28837921, 14.38083093, 15.39932127,\n",
       "       16.41781161,  8.26988887, 13.36234058, 16.41781161, 18.4547923 ,\n",
       "        3.17743715,  2.15894681, 16.41781161,  5.21441784, 15.39932127,\n",
       "       10.30686955,  2.15894681, 15.39932127, 17.43630195,  5.21441784,\n",
       "        2.15894681, 14.38083093, 11.3253599 , 15.39932127, 17.43630195,\n",
       "       15.39932127, 11.3253599 , 17.43630195, 17.43630195, 18.4547923 ,\n",
       "       18.4547923 ,  4.1959275 , 14.38083093, 16.41781161, 14.38083093,\n",
       "        5.21441784, 17.43630195,  9.28837921,  8.26988887, 11.3253599 ,\n",
       "        5.21441784,  5.21441784,  4.1959275 ,  0.12196613, 17.43630195,\n",
       "        7.25139853,  6.23290818,  1.14045647,  4.1959275 ,  5.21441784,\n",
       "        4.1959275 , 15.39932127,  3.17743715, 10.30686955,  7.25139853,\n",
       "        1.14045647,  3.17743715, 13.36234058, 13.36234058, 12.34385024,\n",
       "        5.21441784, 17.43630195,  1.14045647,  7.25139853,  0.12196613,\n",
       "        4.1959275 ,  6.23290818, 14.38083093,  4.1959275 , 14.38083093,\n",
       "        2.15894681,  1.14045647, 10.30686955, 18.4547923 , 17.43630195,\n",
       "       14.38083093, 17.43630195,  5.21441784,  2.15894681, 14.38083093,\n",
       "        7.25139853,  1.14045647, 16.41781161, 14.38083093,  7.25139853,\n",
       "       12.34385024,  5.21441784,  1.14045647,  5.21441784,  3.17743715,\n",
       "        9.28837921, 11.3253599 , 12.34385024,  8.26988887,  0.12196613,\n",
       "        3.17743715, 18.4547923 , 17.43630195,  3.17743715,  3.17743715,\n",
       "       12.34385024, 18.4547923 , 10.30686955, 13.36234058, 18.4547923 ,\n",
       "       11.3253599 , 16.41781161,  3.17743715,  3.17743715,  3.17743715,\n",
       "        6.23290818, 18.4547923 ,  2.15894681, 15.39932127,  5.21441784,\n",
       "        6.23290818, 18.4547923 ,  9.28837921, 16.41781161, 14.38083093,\n",
       "        6.23290818,  7.25139853, 12.34385024, 11.3253599 ,  1.14045647,\n",
       "        3.17743715,  7.25139853,  7.25139853, 17.43630195, 14.38083093,\n",
       "       10.30686955, 16.41781161,  9.28837921,  2.15894681,  9.28837921,\n",
       "       11.3253599 ,  3.17743715, 16.41781161,  2.15894681,  0.12196613,\n",
       "       12.34385024,  4.1959275 ,  3.17743715, 14.38083093,  0.12196613,\n",
       "        0.12196613, 14.38083093,  2.15894681,  5.21441784,  7.25139853,\n",
       "        6.23290818,  5.21441784, 18.4547923 ,  1.14045647,  6.23290818,\n",
       "       18.4547923 ,  6.23290818,  7.25139853,  3.17743715,  3.17743715,\n",
       "        6.23290818, 14.38083093,  2.15894681, 18.4547923 ,  8.26988887,\n",
       "       13.36234058, 12.34385024, 14.38083093,  4.1959275 ,  1.14045647,\n",
       "       13.36234058, 12.34385024, 10.30686955, 13.36234058, 16.41781161,\n",
       "        4.1959275 , 12.34385024, 17.43630195, 17.43630195, 11.3253599 ,\n",
       "       15.39932127, 14.38083093, 18.4547923 ,  7.25139853,  6.23290818,\n",
       "        3.17743715, 16.41781161, 15.39932127, 13.36234058, 18.4547923 ,\n",
       "       18.4547923 ,  8.26988887, 15.39932127, 10.30686955,  8.26988887,\n",
       "       18.4547923 , 16.41781161, 15.39932127,  3.17743715,  7.25139853,\n",
       "        6.23290818, 10.30686955,  3.17743715,  9.28837921, 14.38083093,\n",
       "        0.12196613,  7.25139853,  1.14045647,  4.1959275 ,  6.23290818,\n",
       "        5.21441784, 15.39932127,  6.23290818, 17.43630195, 18.4547923 ,\n",
       "        7.25139853,  0.12196613,  2.15894681, 18.4547923 ,  8.26988887,\n",
       "        2.15894681,  7.25139853, 17.43630195,  3.17743715,  7.25139853,\n",
       "        0.12196613,  8.26988887, 18.4547923 ,  3.17743715,  9.28837921,\n",
       "        0.12196613,  2.15894681,  2.15894681, 12.34385024,  7.25139853,\n",
       "       16.41781161,  8.26988887,  0.12196613,  6.23290818, 17.43630195,\n",
       "        6.23290818, 11.3253599 ,  2.15894681,  8.26988887,  0.12196613,\n",
       "        3.17743715, 16.41781161, 10.30686955,  1.14045647, 16.41781161,\n",
       "        8.26988887,  3.17743715, 18.4547923 , 14.38083093,  4.1959275 ,\n",
       "        4.1959275 ,  3.17743715,  8.26988887, 17.43630195, 18.4547923 ,\n",
       "       12.34385024, 13.36234058,  7.25139853,  1.14045647, 14.38083093,\n",
       "        4.1959275 ,  7.25139853, 13.36234058,  7.25139853, 12.34385024,\n",
       "       14.38083093, 17.43630195, 13.36234058,  8.26988887, 17.43630195,\n",
       "        8.26988887, 16.41781161,  3.17743715,  8.26988887,  9.28837921,\n",
       "        9.28837921,  7.25139853, 11.3253599 ,  4.1959275 , 14.38083093,\n",
       "       18.4547923 ,  5.21441784, 17.43630195, 17.43630195, 16.41781161,\n",
       "        4.1959275 ,  6.23290818, 12.34385024, 16.41781161,  9.28837921,\n",
       "       17.43630195, 17.43630195,  8.26988887,  5.21441784,  8.26988887,\n",
       "       11.3253599 ,  8.26988887,  6.23290818,  3.17743715,  4.1959275 ,\n",
       "        8.26988887, 13.36234058, 18.4547923 ,  7.25139853, 11.3253599 ,\n",
       "        1.14045647,  0.12196613,  4.1959275 ,  6.23290818,  9.28837921,\n",
       "       12.34385024, 11.3253599 ,  1.14045647,  1.14045647,  0.12196613,\n",
       "       15.39932127,  0.12196613,  6.23290818,  2.15894681,  8.26988887,\n",
       "        9.28837921,  2.15894681, 11.3253599 ,  9.28837921, 10.30686955,\n",
       "       14.38083093, 16.41781161, 16.41781161,  7.25139853, 13.36234058,\n",
       "       12.34385024,  3.17743715,  7.25139853, 12.34385024, 12.34385024,\n",
       "        1.14045647,  2.15894681, 10.30686955,  3.17743715, 11.3253599 ,\n",
       "        6.23290818, 18.4547923 , 10.30686955, 17.43630195, 12.34385024,\n",
       "        5.21441784,  4.1959275 , 14.38083093,  8.26988887,  2.15894681,\n",
       "        0.12196613,  1.14045647, 13.36234058, 12.34385024,  8.26988887,\n",
       "       15.39932127,  5.21441784,  6.23290818,  6.23290818, 14.38083093,\n",
       "       12.34385024,  1.14045647, 16.41781161, 10.30686955,  2.15894681,\n",
       "       17.43630195,  6.23290818, 15.39932127,  7.25139853, 18.4547923 ,\n",
       "       14.38083093,  1.14045647,  5.21441784,  3.17743715,  8.26988887,\n",
       "        7.25139853, 12.34385024, 17.43630195,  0.12196613,  6.23290818,\n",
       "       16.41781161, 15.39932127,  2.15894681, 18.4547923 , 15.39932127,\n",
       "        5.21441784,  5.21441784,  0.12196613,  6.23290818, 12.34385024,\n",
       "       15.39932127, 13.36234058,  8.26988887,  5.21441784, 16.41781161,\n",
       "        1.14045647, 11.3253599 , 10.30686955, 14.38083093,  1.14045647,\n",
       "        7.25139853,  9.28837921,  4.1959275 , 11.3253599 ,  4.1959275 ,\n",
       "       10.30686955, 16.41781161,  2.15894681, 16.41781161,  4.1959275 ,\n",
       "        3.17743715,  1.14045647,  1.14045647,  9.28837921,  6.23290818,\n",
       "       14.38083093, 14.38083093, 10.30686955, 10.30686955,  8.26988887,\n",
       "        4.1959275 ,  7.25139853,  6.23290818,  2.15894681,  5.21441784,\n",
       "        5.21441784,  8.26988887,  9.28837921,  4.1959275 ,  0.12196613,\n",
       "        2.15894681, 15.39932127, 15.39932127,  3.17743715, 17.43630195,\n",
       "        2.15894681, 13.36234058,  3.17743715,  6.23290818, 13.36234058,\n",
       "       18.4547923 ,  1.14045647, 13.36234058,  9.28837921,  1.14045647,\n",
       "       14.38083093,  0.12196613, 11.3253599 , 14.38083093,  3.17743715,\n",
       "        4.1959275 , 14.38083093, 17.43630195,  9.28837921,  8.26988887,\n",
       "        7.25139853,  8.26988887,  2.15894681,  6.23290818,  7.25139853,\n",
       "       14.38083093, 14.38083093, 11.3253599 , 14.38083093,  1.14045647,\n",
       "        8.26988887, 18.4547923 , 15.39932127,  9.28837921,  5.21441784,\n",
       "        3.17743715,  7.25139853,  5.21441784,  1.14045647, 17.43630195,\n",
       "        9.28837921, 17.43630195, 10.30686955, 18.4547923 , 10.30686955,\n",
       "        3.17743715, 15.39932127,  7.25139853, 18.4547923 , 13.36234058,\n",
       "       11.3253599 , 13.36234058,  0.12196613, 12.34385024,  5.21441784,\n",
       "       11.3253599 ,  6.23290818,  7.25139853,  9.28837921, 10.30686955,\n",
       "       14.38083093, 14.38083093, 17.43630195, 18.4547923 ,  6.23290818,\n",
       "       18.4547923 ,  2.15894681,  4.1959275 ,  9.28837921, 17.43630195,\n",
       "       15.39932127, 13.36234058,  5.21441784, 15.39932127,  0.12196613,\n",
       "       14.38083093,  6.23290818,  3.17743715, 15.39932127,  3.17743715,\n",
       "        9.28837921, 15.39932127, 15.39932127, 13.36234058,  5.21441784,\n",
       "        8.26988887,  3.17743715,  6.23290818,  0.12196613,  3.17743715,\n",
       "        5.21441784,  1.14045647,  0.12196613,  0.12196613, 10.30686955,\n",
       "        2.15894681, 13.36234058, 13.36234058,  2.15894681, 17.43630195,\n",
       "        7.25139853, 11.3253599 ,  3.17743715, 12.34385024,  1.14045647,\n",
       "        0.12196613,  4.1959275 ,  9.28837921,  6.23290818,  5.21441784,\n",
       "       16.41781161,  2.15894681,  0.12196613, 13.36234058,  4.1959275 ,\n",
       "       17.43630195,  2.15894681, 18.4547923 ,  7.25139853, 13.36234058,\n",
       "        6.23290818,  8.26988887, 12.34385024,  9.28837921, 17.43630195,\n",
       "       14.38083093, 12.34385024,  5.21441784,  7.25139853, 13.36234058,\n",
       "        4.1959275 ,  9.28837921,  1.14045647, 18.4547923 , 11.3253599 ,\n",
       "       11.3253599 ,  8.26988887, 16.41781161, 14.38083093, 13.36234058,\n",
       "       12.34385024, 10.30686955,  3.17743715,  7.25139853, 15.39932127,\n",
       "        6.23290818,  0.12196613,  4.1959275 , 14.38083093,  1.14045647,\n",
       "        7.25139853,  9.28837921, 15.39932127,  2.15894681,  4.1959275 ,\n",
       "       11.3253599 ,  1.14045647,  9.28837921, 14.38083093, 18.4547923 ,\n",
       "       15.39932127,  2.15894681,  2.15894681,  0.12196613,  9.28837921,\n",
       "        8.26988887, 11.3253599 , 14.38083093,  2.15894681, 18.4547923 ,\n",
       "        4.1959275 ,  0.12196613, 14.38083093, 13.36234058,  7.25139853,\n",
       "        0.12196613,  0.12196613, 18.4547923 , 10.30686955,  8.26988887])"
      ]
     },
     "execution_count": 288,
     "metadata": {},
     "output_type": "execute_result"
    }
   ],
   "source": [
    "predicted_vals = pred(y_rand)\n",
    "predicted_vals"
   ]
  },
  {
   "cell_type": "code",
   "execution_count": 289,
   "metadata": {},
   "outputs": [
    {
     "data": {
      "text/plain": [
       "<matplotlib.collections.PathCollection at 0x2ebf8f52eb0>"
      ]
     },
     "execution_count": 289,
     "metadata": {},
     "output_type": "execute_result"
    },
    {
     "data": {
      "image/png": "[encoded data removed]",
      "text/plain": [
       "<Figure size 432x288 with 1 Axes>"
      ]
     },
     "metadata": {
      "needs_background": "light"
     },
     "output_type": "display_data"
    }
   ],
   "source": [
    "x = np.linspace(np.min(X), np.max(X)+1)\n",
    "y = m*x + c\n",
    "\n",
    "plt.plot(x, y, label='Regression Line')\n",
    "plt.scatter(y_rand, predicted_vals, label='data points')"
   ]
  }
 ],
 "metadata": {
  "kernelspec": {
   "display_name": "Python 3.9.6 64-bit",
   "language": "python",
   "name": "python3"
  },
  "language_info": {
   "codemirror_mode": {
    "name": "ipython",
    "version": 3
   },
   "file_extension": ".py",
   "mimetype": "text/x-python",
   "name": "python",
   "nbconvert_exporter": "python",
   "pygments_lexer": "ipython3",
   "version": "3.9.6"
  },
  "orig_nbformat": 4,
  "vscode": {
   "interpreter": {
    "hash": "b667cebad148e7b094a58ee81f940c685de1dd70a003a9ccdca4a5792431bee5"
   }
  }
 },
 "nbformat": 4,
 "nbformat_minor": 2
}
